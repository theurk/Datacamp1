{
 "cells": [
  {
   "cell_type": "code",
   "execution_count": 1,
   "metadata": {},
   "outputs": [],
   "source": [
    "import requests"
   ]
  },
  {
   "cell_type": "code",
   "execution_count": 2,
   "metadata": {},
   "outputs": [],
   "source": [
    "from bs4 import BeautifulSoup"
   ]
  },
  {
   "cell_type": "code",
   "execution_count": 6,
   "metadata": {},
   "outputs": [
    {
     "name": "stdout",
     "output_type": "stream",
     "text": [
      "ราคาทองตามประกาศของสมาคมค้าทองคำ\n",
      "ประจำวันที่ 18/12/2563 เวลา 14:26 น. (ครั้งที่ 3)\n",
      "ทองคำแท่ง 96.5%\n",
      "ขายออก 26,550.00 บาท\n",
      "รับซื้อ 26,450.00 บาท\n",
      "ทองรูปพรรณ 96.5%\n",
      "ขายออก 27,050.00 บาท\n",
      "ฐานภาษี 25,969.08 บาท\n"
     ]
    }
   ],
   "source": [
    "url = 'https://goldtraders.or.th'\n",
    "data = requests.get(url)\n",
    "data.encoding = 'utf-8'\n",
    "\n",
    "soup = BeautifulSoup(data.text, 'lxml')\n",
    "\n",
    "def GoldPriceCheck():\n",
    "    print('ราคาทองตามประกาศของสมาคมค้าทองคำ')\n",
    "    print('ประจำวันที่ ' + soup.find(id='DetailPlace_uc_goldprices1_lblAsTime').text)\n",
    "    print('ทองคำแท่ง 96.5%')\n",
    "    print('ขายออก ' + soup.find(id='DetailPlace_uc_goldprices1_lblBLSell').text + ' บาท')\n",
    "    print('รับซื้อ ' + soup.find(id='DetailPlace_uc_goldprices1_lblBLBuy').text + ' บาท')\n",
    "    print('ทองรูปพรรณ 96.5%')\n",
    "    print('ขายออก ' + soup.find(id='DetailPlace_uc_goldprices1_lblOMSell').text + ' บาท')\n",
    "    print('ฐานภาษี ' + soup.find(id='DetailPlace_uc_goldprices1_lblOMBuy').text + ' บาท')\n",
    "    \n",
    "\n",
    "GoldPriceCheck()"
   ]
  },
  {
   "cell_type": "code",
   "execution_count": null,
   "metadata": {},
   "outputs": [],
   "source": []
  }
 ],
 "metadata": {
  "kernelspec": {
   "display_name": "Python 3",
   "language": "python",
   "name": "python3"
  },
  "language_info": {
   "codemirror_mode": {
    "name": "ipython",
    "version": 3
   },
   "file_extension": ".py",
   "mimetype": "text/x-python",
   "name": "python",
   "nbconvert_exporter": "python",
   "pygments_lexer": "ipython3",
   "version": "3.7.4"
  }
 },
 "nbformat": 4,
 "nbformat_minor": 2
}
